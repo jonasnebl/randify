{
 "cells": [
  {
   "cell_type": "markdown",
   "metadata": {},
   "source": [
    "# Train travel time\n",
    "\n",
    "Train rides can turn into an odysee: Trains get delayed, you miss your connection and one thing leads to another. For a simple estimation we will use randify to estimate the total travel time of an example train ride consisting of two legs."
   ]
  },
  {
   "cell_type": "code",
   "execution_count": 1,
   "metadata": {},
   "outputs": [],
   "source": [
    "from randify import randify, RandomVariable, plot_pdf\n",
    "import numpy as np\n",
    "\n",
    "@randify(verbose=True)\n",
    "def travel_time(duration_leg_1, duration_leg_2):\n",
    "    t_arrive_connection = duration_leg_1\n",
    "    t_start_connection = np.ceil(t_arrive_connection) # connection trains runs every 1 hour, so we round up\n",
    "    t_arrive_destination = t_start_connection + duration_leg_2\n",
    "    return t_arrive_destination"
   ]
  },
  {
   "cell_type": "markdown",
   "metadata": {},
   "source": [
    "Now we define the durations for both legs as RandomVariables. As trains are almost never to early, but often delayed, we use the Weibull distribution to model the durations of the two legs. "
   ]
  },
  {
   "cell_type": "code",
   "execution_count": 10,
   "metadata": {},
   "outputs": [
    {
     "name": "stdout",
     "output_type": "stream",
     "text": [
      "Randify: 54945 samples evaluated in 0.328s.\n"
     ]
    },
    {
     "ename": "NameError",
     "evalue": "name 'total_duration' is not defined",
     "output_type": "error",
     "traceback": [
      "\u001b[1;31m---------------------------------------------------------------------------\u001b[0m",
      "\u001b[1;31mNameError\u001b[0m                                 Traceback (most recent call last)",
      "Cell \u001b[1;32mIn[10], line 6\u001b[0m\n\u001b[0;32m      2\u001b[0m duration_leg_2 \u001b[38;5;241m=\u001b[39m RandomVariable(\u001b[38;5;28;01mlambda\u001b[39;00m: \u001b[38;5;241m0.5\u001b[39m \u001b[38;5;241m+\u001b[39m \u001b[38;5;241m0.2\u001b[39m\u001b[38;5;241m*\u001b[39mnp\u001b[38;5;241m.\u001b[39mrandom\u001b[38;5;241m.\u001b[39mweibull(\u001b[38;5;241m1\u001b[39m))\n\u001b[0;32m      4\u001b[0m duration_total \u001b[38;5;241m=\u001b[39m travel_time(duration_leg_1, duration_leg_2)\n\u001b[1;32m----> 6\u001b[0m plot_pdf(duration_leg_1\u001b[38;5;241m=\u001b[39mduration_leg_1, duration_leg_2\u001b[38;5;241m=\u001b[39mduration_leg_2, duration_total\u001b[38;5;241m=\u001b[39m\u001b[43mtotal_duration\u001b[49m)\n",
      "\u001b[1;31mNameError\u001b[0m: name 'total_duration' is not defined"
     ]
    }
   ],
   "source": [
    "duration_leg_1 = RandomVariable(lambda: 0.75 + 0.2*np.random.weibull(1))\n",
    "duration_leg_2 = RandomVariable(lambda: 0.5 + 0.2*np.random.weibull(1))\n",
    "\n",
    "duration_total = travel_time(duration_leg_1, duration_leg_2)\n",
    "print(f\"Expected travel time: {duration_total.expected_value:.2f} hours\")\n",
    "\n",
    "plot_pdf(duration_leg_1=duration_leg_1, duration_leg_2=duration_leg_2, duration_total=duration_total)"
   ]
  }
 ],
 "metadata": {
  "kernelspec": {
   "display_name": "venv",
   "language": "python",
   "name": "python3"
  },
  "language_info": {
   "codemirror_mode": {
    "name": "ipython",
    "version": 3
   },
   "file_extension": ".py",
   "mimetype": "text/x-python",
   "name": "python",
   "nbconvert_exporter": "python",
   "pygments_lexer": "ipython3",
   "version": "3.11.4"
  }
 },
 "nbformat": 4,
 "nbformat_minor": 2
}
